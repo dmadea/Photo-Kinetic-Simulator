{
 "cells": [
  {
   "cell_type": "markdown",
   "id": "eeedbda2-cc99-42ad-a099-7e4f908ee96a",
   "metadata": {},
   "source": [
    "## Photokinetic simulator\n",
    "\n",
    "\n"
   ]
  },
  {
   "cell_type": "code",
   "execution_count": 4,
   "id": "dirty-course",
   "metadata": {},
   "outputs": [],
   "source": [
    "#@title Install Sympy package\n",
    "\n",
    "#@markdown Please execute this cell by pressing the _Play_ button \n",
    "#@markdown on the left to download and import the sympy package \n",
    "#@markdown in this Colab notebook.\n",
    "\n",
    "#@markdown **Note**: This installs the sympy on the Colab \n",
    "#@markdown notebook in the cloud and not on your computer.\n",
    "\n",
    "import sys\n",
    "\n",
    "try:\n",
    "    import sympy\n",
    "except ImportError:\n",
    "    !pip install sympy\n",
    "\n",
    "from sympy import symbols, Symbol\n",
    "from IPython.display import display, Math\n",
    "\n",
    "try:\n",
    "    import kin_model\n",
    "except ImportError:\n",
    "    !wget \"\"\n",
    "\n",
    "from kin_model import PhotoKineticSymbolicModel"
   ]
  },
  {
   "cell_type": "markdown",
   "id": "1c762bd6-58c4-4947-bd3d-dcacf0f78481",
   "metadata": {},
   "source": [
    "### Input the text model\n",
    "\n",
    "Use rules as for LaTeX"
   ]
  },
  {
   "cell_type": "code",
   "execution_count": 5,
   "id": "final-romantic",
   "metadata": {},
   "outputs": [
    {
     "data": {
      "text/latex": [
       "$\\displaystyle \\begin{align}\\mathrm{BR} &\\xrightarrow{h\\nu} \\mathrm{^1BR} \\\\\\mathrm{^1BR} &\\xrightarrow{k_S} \\mathrm{BR} \\\\\\mathrm{^1BR} &\\xrightarrow{k_{isc}} \\mathrm{^3BR} \\\\\\mathrm{^3BR} &\\xrightarrow{k_T} \\mathrm{BR} \\\\\\mathrm{^3BR} + \\mathrm{^3O_2} &\\xrightarrow{k_{TT}} \\mathrm{^1O_2} + \\mathrm{BR} \\\\\\mathrm{^1O_2} &\\xrightarrow{k_d} \\mathrm{^3O_2} \\\\\\mathrm{^1O_2} + \\mathrm{BR} &\\xrightarrow{k_q} \\mathrm{BR} + \\mathrm{^3O_2} \\\\\\mathrm{BR} + \\mathrm{^1O_2} &\\xrightarrow{k_r}  \\\\\\end{align}$"
      ],
      "text/plain": [
       "<IPython.core.display.Math object>"
      ]
     },
     "metadata": {},
     "output_type": "display_data"
    }
   ],
   "source": [
    "str_model = \"\"\"\n",
    "BR -hv-> ^1BR --> BR          // k_S  # population of singlet state and decay to GS with rate k_S\n",
    "^1BR --> ^3BR --> BR          // k_{isc} ; k_T\n",
    "^3BR + ^3O_2 --> ^1O_2 + BR   // k_{TT}\n",
    "^1O_2 --> ^3O_2               // k_d\n",
    "^1O_2 + BR --> BR + ^3O_2     // k_q\n",
    "BR + ^1O_2 -->                // k_r\n",
    "\"\"\"\n",
    "\n",
    "model = PhotoKineticSymbolicModel.from_text(str_model)\n",
    "model.pprint_model()\n"
   ]
  },
  {
   "cell_type": "code",
   "execution_count": 6,
   "id": "30016980-2529-481e-9da6-f25133b6ad19",
   "metadata": {},
   "outputs": [
    {
     "name": "stdout",
     "output_type": "stream",
     "text": [
      "\n",
      "\n"
     ]
    },
    {
     "data": {
      "text/latex": [
       "$\\displaystyle \\frac{d}{d t} \\operatorname{c_{BR}}{\\left(t \\right)} = - J + k_{S} \\operatorname{c_{^1BR}}{\\left(t \\right)} + k_{T} \\operatorname{c_{^3BR}}{\\left(t \\right)} - k_{r} \\operatorname{c_{BR}}{\\left(t \\right)} \\operatorname{c_{^1O_2}}{\\left(t \\right)} + k_{TT} \\operatorname{c_{^3BR}}{\\left(t \\right)} \\operatorname{c_{^3O_2}}{\\left(t \\right)}$"
      ],
      "text/plain": [
       "Eq(Derivative(c_{BR}(t), t), -J + k_S*c_{^1BR}(t) + k_T*c_{^3BR}(t) - k_r*c_{BR}(t)*c_{^1O_2}(t) + k_{TT}*c_{^3BR}(t)*c_{^3O_2}(t))"
      ]
     },
     "metadata": {},
     "output_type": "display_data"
    },
    {
     "data": {
      "text/latex": [
       "$\\displaystyle \\frac{d}{d t} \\operatorname{c_{^1BR}}{\\left(t \\right)} = J - k_{S} \\operatorname{c_{^1BR}}{\\left(t \\right)} - k_{isc} \\operatorname{c_{^1BR}}{\\left(t \\right)}$"
      ],
      "text/plain": [
       "Eq(Derivative(c_{^1BR}(t), t), J - k_S*c_{^1BR}(t) - k_{isc}*c_{^1BR}(t))"
      ]
     },
     "metadata": {},
     "output_type": "display_data"
    },
    {
     "data": {
      "text/latex": [
       "$\\displaystyle \\frac{d}{d t} \\operatorname{c_{^3BR}}{\\left(t \\right)} = - k_{T} \\operatorname{c_{^3BR}}{\\left(t \\right)} - k_{TT} \\operatorname{c_{^3BR}}{\\left(t \\right)} \\operatorname{c_{^3O_2}}{\\left(t \\right)} + k_{isc} \\operatorname{c_{^1BR}}{\\left(t \\right)}$"
      ],
      "text/plain": [
       "Eq(Derivative(c_{^3BR}(t), t), -k_T*c_{^3BR}(t) - k_{TT}*c_{^3BR}(t)*c_{^3O_2}(t) + k_{isc}*c_{^1BR}(t))"
      ]
     },
     "metadata": {},
     "output_type": "display_data"
    },
    {
     "data": {
      "text/latex": [
       "$\\displaystyle \\frac{d}{d t} \\operatorname{c_{^3O_2}}{\\left(t \\right)} = k_{d} \\operatorname{c_{^1O_2}}{\\left(t \\right)} + k_{q} \\operatorname{c_{BR}}{\\left(t \\right)} \\operatorname{c_{^1O_2}}{\\left(t \\right)} - k_{TT} \\operatorname{c_{^3BR}}{\\left(t \\right)} \\operatorname{c_{^3O_2}}{\\left(t \\right)}$"
      ],
      "text/plain": [
       "Eq(Derivative(c_{^3O_2}(t), t), k_d*c_{^1O_2}(t) + k_q*c_{BR}(t)*c_{^1O_2}(t) - k_{TT}*c_{^3BR}(t)*c_{^3O_2}(t))"
      ]
     },
     "metadata": {},
     "output_type": "display_data"
    },
    {
     "data": {
      "text/latex": [
       "$\\displaystyle \\frac{d}{d t} \\operatorname{c_{^1O_2}}{\\left(t \\right)} = - k_{d} \\operatorname{c_{^1O_2}}{\\left(t \\right)} - k_{q} \\operatorname{c_{BR}}{\\left(t \\right)} \\operatorname{c_{^1O_2}}{\\left(t \\right)} - k_{r} \\operatorname{c_{BR}}{\\left(t \\right)} \\operatorname{c_{^1O_2}}{\\left(t \\right)} + k_{TT} \\operatorname{c_{^3BR}}{\\left(t \\right)} \\operatorname{c_{^3O_2}}{\\left(t \\right)}$"
      ],
      "text/plain": [
       "Eq(Derivative(c_{^1O_2}(t), t), -k_d*c_{^1O_2}(t) - k_q*c_{BR}(t)*c_{^1O_2}(t) - k_r*c_{BR}(t)*c_{^1O_2}(t) + k_{TT}*c_{^3BR}(t)*c_{^3O_2}(t))"
      ]
     },
     "metadata": {},
     "output_type": "display_data"
    },
    {
     "name": "stdout",
     "output_type": "stream",
     "text": [
      "\n",
      "\n"
     ]
    },
    {
     "data": {
      "text/latex": [
       "$\\displaystyle \\frac{d}{d t} \\operatorname{c_{BR}}{\\left(t \\right)} = - \\frac{J \\phi_{isc} k_{r} k_{TT} \\operatorname{c_{BR}}{\\left(t \\right)} \\operatorname{c_{^3O_2}}{\\left(t \\right)}}{\\left(k_{T} + k_{TT} \\operatorname{c_{^3O_2}}{\\left(t \\right)}\\right) \\left(k_{d} + k_{q} \\operatorname{c_{BR}}{\\left(t \\right)} + k_{r} \\operatorname{c_{BR}}{\\left(t \\right)}\\right)}$"
      ],
      "text/plain": [
       "Eq(Derivative(c_{BR}(t), t), -J*\\phi_{isc}*k_r*k_{TT}*c_{BR}(t)*c_{^3O_2}(t)/((k_T + k_{TT}*c_{^3O_2}(t))*(k_d + k_q*c_{BR}(t) + k_r*c_{BR}(t))))"
      ]
     },
     "metadata": {},
     "output_type": "display_data"
    },
    {
     "data": {
      "text/latex": [
       "$\\displaystyle \\operatorname{c_{^1BR}}{\\left(t \\right)} = \\frac{J}{k_{S} + k_{isc}}$"
      ],
      "text/plain": [
       "Eq(c_{^1BR}(t), J/(k_S + k_{isc}))"
      ]
     },
     "metadata": {},
     "output_type": "display_data"
    },
    {
     "data": {
      "text/latex": [
       "$\\displaystyle \\operatorname{c_{^3BR}}{\\left(t \\right)} = \\frac{J \\phi_{isc}}{k_{T} + k_{TT} \\operatorname{c_{^3O_2}}{\\left(t \\right)}}$"
      ],
      "text/plain": [
       "Eq(c_{^3BR}(t), J*\\phi_{isc}/(k_T + k_{TT}*c_{^3O_2}(t)))"
      ]
     },
     "metadata": {},
     "output_type": "display_data"
    },
    {
     "data": {
      "text/latex": [
       "$\\displaystyle \\frac{d}{d t} \\operatorname{c_{^3O_2}}{\\left(t \\right)} = - \\frac{J \\phi_{isc} k_{r} k_{TT} \\operatorname{c_{BR}}{\\left(t \\right)} \\operatorname{c_{^3O_2}}{\\left(t \\right)}}{\\left(k_{T} + k_{TT} \\operatorname{c_{^3O_2}}{\\left(t \\right)}\\right) \\left(k_{d} + k_{q} \\operatorname{c_{BR}}{\\left(t \\right)} + k_{r} \\operatorname{c_{BR}}{\\left(t \\right)}\\right)}$"
      ],
      "text/plain": [
       "Eq(Derivative(c_{^3O_2}(t), t), -J*\\phi_{isc}*k_r*k_{TT}*c_{BR}(t)*c_{^3O_2}(t)/((k_T + k_{TT}*c_{^3O_2}(t))*(k_d + k_q*c_{BR}(t) + k_r*c_{BR}(t))))"
      ]
     },
     "metadata": {},
     "output_type": "display_data"
    },
    {
     "data": {
      "text/latex": [
       "$\\displaystyle \\operatorname{c_{^1O_2}}{\\left(t \\right)} = \\frac{J \\phi_{isc} k_{TT} \\operatorname{c_{^3O_2}}{\\left(t \\right)}}{\\left(k_{T} + k_{TT} \\operatorname{c_{^3O_2}}{\\left(t \\right)}\\right) \\left(k_{d} + k_{q} \\operatorname{c_{BR}}{\\left(t \\right)} + k_{r} \\operatorname{c_{BR}}{\\left(t \\right)}\\right)}$"
      ],
      "text/plain": [
       "Eq(c_{^1O_2}(t), J*\\phi_{isc}*k_{TT}*c_{^3O_2}(t)/((k_T + k_{TT}*c_{^3O_2}(t))*(k_d + k_q*c_{BR}(t) + k_r*c_{BR}(t))))"
      ]
     },
     "metadata": {},
     "output_type": "display_data"
    }
   ],
   "source": [
    "print('\\n')\n",
    "model.pprint_equations()\n",
    "print('\\n')\n",
    "\n",
    "# substitute for isc quantum yield\n",
    "k_S, k_isc, *_ = model.symbols['rate_constants']\n",
    "phi_isc = symbols('\\phi_{isc}')\n",
    "subs = [(k_isc / (k_isc + k_S), phi_isc)]\n",
    "\n",
    "model.steady_state_approx(['^1BR', '^3BR', '^1O_2'], subs)  # set the species for SS approximation"
   ]
  },
  {
   "cell_type": "code",
   "execution_count": 5,
   "id": "1a57e110-fd49-409a-bdc0-10a56a14de1d",
   "metadata": {},
   "outputs": [
    {
     "data": {
      "text/latex": [
       "$\\displaystyle \\begin{align}\\mathrm{ArO_2} &\\xrightarrow{k_1} \\mathrm{Ar} + \\mathrm{^1O_2} \\\\\\mathrm{^1O_2} &\\xrightarrow{k_d} \\mathrm{^3O_2} \\\\\\mathrm{^1O_2} + \\mathrm{Ar} &\\xrightarrow{k_{q,Ar}} \\mathrm{Ar} + \\mathrm{^3O_2} \\\\\\mathrm{^1O_2} + \\mathrm{ArO_2} &\\xrightarrow{k_{q,ArO_2}} \\mathrm{ArO_2} + \\mathrm{^3O_2} \\\\\\mathrm{^1O_2} + \\mathrm{S} &\\xrightarrow{k_{q,S}} \\mathrm{S} + \\mathrm{^3O_2} \\\\\\mathrm{S} + \\mathrm{^1O_2} &\\xrightarrow{k_r}  \\\\\\end{align}$"
      ],
      "text/plain": [
       "<IPython.core.display.Math object>"
      ]
     },
     "metadata": {},
     "output_type": "display_data"
    },
    {
     "name": "stdout",
     "output_type": "stream",
     "text": [
      "\n",
      "\n"
     ]
    },
    {
     "data": {
      "text/latex": [
       "$\\displaystyle \\frac{d}{d t} \\operatorname{c_{ArO_2}}{\\left(t \\right)} = - k_{1} \\operatorname{c_{ArO_2}}{\\left(t \\right)}$"
      ],
      "text/plain": [
       "Eq(Derivative(c_{ArO_2}(t), t), -k_1*c_{ArO_2}(t))"
      ]
     },
     "metadata": {},
     "output_type": "display_data"
    },
    {
     "data": {
      "text/latex": [
       "$\\displaystyle \\frac{d}{d t} \\operatorname{c_{Ar}}{\\left(t \\right)} = k_{1} \\operatorname{c_{ArO_2}}{\\left(t \\right)}$"
      ],
      "text/plain": [
       "Eq(Derivative(c_{Ar}(t), t), k_1*c_{ArO_2}(t))"
      ]
     },
     "metadata": {},
     "output_type": "display_data"
    },
    {
     "data": {
      "text/latex": [
       "$\\displaystyle \\operatorname{c_{^1O_2}}{\\left(t \\right)} = \\frac{k_{1} \\operatorname{c_{ArO_2}}{\\left(t \\right)}}{k_{d} + k_{r} \\operatorname{c_{S}}{\\left(t \\right)} + k_{q,ArO_2} \\operatorname{c_{ArO_2}}{\\left(t \\right)} + k_{q,Ar} \\operatorname{c_{Ar}}{\\left(t \\right)} + k_{q,S} \\operatorname{c_{S}}{\\left(t \\right)}}$"
      ],
      "text/plain": [
       "Eq(c_{^1O_2}(t), k_1*c_{ArO_2}(t)/(k_d + k_r*c_{S}(t) + k_{q,ArO_2}*c_{ArO_2}(t) + k_{q,Ar}*c_{Ar}(t) + k_{q,S}*c_{S}(t)))"
      ]
     },
     "metadata": {},
     "output_type": "display_data"
    },
    {
     "data": {
      "text/latex": [
       "$\\displaystyle \\frac{d}{d t} \\operatorname{c_{^3O_2}}{\\left(t \\right)} = \\frac{k_{1} \\left(k_{d} + k_{q,ArO_2} \\operatorname{c_{ArO_2}}{\\left(t \\right)} + k_{q,Ar} \\operatorname{c_{Ar}}{\\left(t \\right)} + k_{q,S} \\operatorname{c_{S}}{\\left(t \\right)}\\right) \\operatorname{c_{ArO_2}}{\\left(t \\right)}}{k_{d} + k_{r} \\operatorname{c_{S}}{\\left(t \\right)} + k_{q,ArO_2} \\operatorname{c_{ArO_2}}{\\left(t \\right)} + k_{q,Ar} \\operatorname{c_{Ar}}{\\left(t \\right)} + k_{q,S} \\operatorname{c_{S}}{\\left(t \\right)}}$"
      ],
      "text/plain": [
       "Eq(Derivative(c_{^3O_2}(t), t), k_1*(k_d + k_{q,ArO_2}*c_{ArO_2}(t) + k_{q,Ar}*c_{Ar}(t) + k_{q,S}*c_{S}(t))*c_{ArO_2}(t)/(k_d + k_r*c_{S}(t) + k_{q,ArO_2}*c_{ArO_2}(t) + k_{q,Ar}*c_{Ar}(t) + k_{q,S}*c_{S}(t)))"
      ]
     },
     "metadata": {},
     "output_type": "display_data"
    },
    {
     "data": {
      "text/latex": [
       "$\\displaystyle \\frac{d}{d t} \\operatorname{c_{S}}{\\left(t \\right)} = - \\frac{k_{1} k_{r} \\operatorname{c_{ArO_2}}{\\left(t \\right)} \\operatorname{c_{S}}{\\left(t \\right)}}{k_{d} + k_{r} \\operatorname{c_{S}}{\\left(t \\right)} + k_{q,ArO_2} \\operatorname{c_{ArO_2}}{\\left(t \\right)} + k_{q,Ar} \\operatorname{c_{Ar}}{\\left(t \\right)} + k_{q,S} \\operatorname{c_{S}}{\\left(t \\right)}}$"
      ],
      "text/plain": [
       "Eq(Derivative(c_{S}(t), t), -k_1*k_r*c_{ArO_2}(t)*c_{S}(t)/(k_d + k_r*c_{S}(t) + k_{q,ArO_2}*c_{ArO_2}(t) + k_{q,Ar}*c_{Ar}(t) + k_{q,S}*c_{S}(t)))"
      ]
     },
     "metadata": {},
     "output_type": "display_data"
    }
   ],
   "source": [
    "str_model = \"\"\"\n",
    "ArO_2 --> Ar + ^1O_2             // k_1  # absorption and singlet state decay\n",
    "^1O_2 --> ^3O_2                  // k_d\n",
    "^1O_2 + Ar --> Ar + ^3O_2         // k_{q,Ar}\n",
    "^1O_2 + ArO_2 --> ArO_2 + ^3O_2     // k_{q,ArO_2}\n",
    "^1O_2 + S --> S + ^3O_2           // k_{q,S}\n",
    "S + ^1O_2 -->                      // k_r\n",
    "\"\"\"\n",
    "\n",
    "model = PhotoKineticSymbolicModel.from_text(str_model)\n",
    "\n",
    "model.pprint_model()\n",
    "print('\\n')\n",
    "# model.pprint_equations()\n",
    "# print('\\n')\n",
    "\n",
    "model.steady_state_approx(['^1O_2'])  # set the species for SS approximation"
   ]
  },
  {
   "cell_type": "markdown",
   "id": "driven-helping",
   "metadata": {},
   "source": []
  }
 ],
 "metadata": {
  "kernelspec": {
   "display_name": "Python 3 (ipykernel)",
   "language": "python",
   "name": "python3"
  },
  "language_info": {
   "codemirror_mode": {
    "name": "ipython",
    "version": 3
   },
   "file_extension": ".py",
   "mimetype": "text/x-python",
   "name": "python",
   "nbconvert_exporter": "python",
   "pygments_lexer": "ipython3",
   "version": "3.9.7"
  }
 },
 "nbformat": 4,
 "nbformat_minor": 5
}
