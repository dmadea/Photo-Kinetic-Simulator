{
 "cells": [
  {
   "cell_type": "code",
   "execution_count": 1,
   "id": "cf0f3ace-a257-44bd-9ff9-1081393db639",
   "metadata": {},
   "outputs": [],
   "source": [
    "from sympy import *\n",
    "import numpy as np\n",
    "import matplotlib.pyplot as plt"
   ]
  },
  {
   "cell_type": "code",
   "execution_count": 2,
   "id": "e445e952-da50-4a13-9b01-6d7e656c923b",
   "metadata": {},
   "outputs": [
    {
     "data": {
      "text/latex": [
       "$\\displaystyle \\begin{cases} 0 & \\text{for}\\: t < 0 \\\\1 & \\text{for}\\: s_{w} \\geq t \\\\0 & \\text{otherwise} \\end{cases}$"
      ],
      "text/plain": [
       "Piecewise((0, t < 0), (1, s_w >= t), (0, True))"
      ]
     },
     "execution_count": 2,
     "metadata": {},
     "output_type": "execute_result"
    }
   ],
   "source": [
    "\n",
    "sw, t, A = symbols(\"s_w t A\")\n",
    "\n",
    "\n",
    "g = Piecewise(\n",
    "    (0, t < 0),\n",
    "    (1, (t >= 0) & (sw >= t)),\n",
    "    (0, True)\n",
    ")\n",
    "\n",
    "g"
   ]
  },
  {
   "cell_type": "code",
   "execution_count": 7,
   "id": "60cb7dcb-3f9e-4f08-983f-d28e294aa923",
   "metadata": {},
   "outputs": [
    {
     "data": {
      "image/png": "[encoded data removed]",
      "text/plain": [
       "<Figure size 640x480 with 1 Axes>"
      ]
     },
     "metadata": {},
     "output_type": "display_data"
    },
    {
     "data": {
      "text/plain": [
       "(np.int64(0), np.int64(1))"
      ]
     },
     "execution_count": 7,
     "metadata": {},
     "output_type": "execute_result"
    }
   ],
   "source": [
    "def square(times: np.ndarray | float, J0: float = 1, sw: float = 1) -> np.ndarray | float:\n",
    "    \"\"\"\n",
    "    Returns the value of the square pulse at a given time.\n",
    "    \"\"\"\n",
    "    return J0 * ((times >= 0) & (times <= sw))\n",
    "\n",
    "def gaussian(times: np.ndarray | float, FWHM: float, J0: float = 1) -> np.ndarray | float:\n",
    "    \"\"\"\n",
    "    Returns the value of the Gaussian pulse at a given time.\n",
    "    \"\"\"\n",
    "\n",
    "    ln2 = np.log(2)\n",
    "    return J0 * 2 * np.sqrt(ln2) * np.exp(- 4 * ln2 * times ** 2 / FWHM ** 2) / (FWHM * np.sqrt(np.pi))\n",
    "\n",
    "\n",
    "t = np.linspace(-1e-9, 1e-8, 1000)\n",
    "\n",
    "\n",
    "f = square(t, 1, 1e-9)\n",
    "\n",
    "plt.plot(t, f)\n",
    "plt.show()\n",
    "\n",
    "f.min()* 2, f.max()"
   ]
  },
  {
   "cell_type": "code",
   "execution_count": null,
   "id": "72e8cf85-4614-4e0c-badf-4570a228c3fb",
   "metadata": {},
   "outputs": [],
   "source": []
  }
 ],
 "metadata": {
  "kernelspec": {
   "display_name": "Python 3 (ipykernel)",
   "language": "python",
   "name": "python3"
  },
  "language_info": {
   "codemirror_mode": {
    "name": "ipython",
    "version": 3
   },
   "file_extension": ".py",
   "mimetype": "text/x-python",
   "name": "python",
   "nbconvert_exporter": "python",
   "pygments_lexer": "ipython3",
   "version": "3.12.7"
  }
 },
 "nbformat": 4,
 "nbformat_minor": 5
}
