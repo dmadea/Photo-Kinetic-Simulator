{
 "cells": [
  {
   "cell_type": "markdown",
   "id": "wooden-syndication",
   "metadata": {
    "id": "wooden-syndication"
   },
   "source": [
    "## Photokinetic simulator\n",
    "\n",
    "\n"
   ]
  },
  {
   "cell_type": "code",
   "execution_count": 1,
   "id": "available-separation",
   "metadata": {
    "colab": {
     "base_uri": "https://localhost:8080/"
    },
    "id": "available-separation",
    "outputId": "d3638608-1ee1-4a42-f636-0e901141a547"
   },
   "outputs": [],
   "source": [
    "#@title Install and Load Packages { display-mode: \"form\" }\n",
    "\n",
    "#@markdown Please execute this cell by pressing the _Play_ button \n",
    "#@markdown on the left to download and import the required packages \n",
    "#@markdown in this Colab notebook.\n",
    "\n",
    "#@markdown **Note**: This installs the sympy package on the Colab \n",
    "#@markdown notebook in the cloud and not on your computer.\n",
    "\n",
    "try:\n",
    "    import google.colab\n",
    "    IN_COLAB = True\n",
    "except ImportError:\n",
    "    IN_COLAB = False\n",
    "\n",
    "try:\n",
    "    import sympy\n",
    "except ImportError:\n",
    "    %shell pip install sympy\n",
    "\n",
    "from sympy import symbols, Symbol\n",
    "from IPython.display import display, Math\n",
    "\n",
    "try:\n",
    "    import kin_model\n",
    "except ImportError:\n",
    "    %shell wget -q \"https://raw.githubusercontent.com/dmadea/Photo-Kinetic-Simulator/main/kin_model.py\"\n",
    "\n",
    "from kin_model import PhotoKineticSymbolicModel"
   ]
  },
  {
   "cell_type": "code",
   "execution_count": 2,
   "id": "acknowledged-tuition",
   "metadata": {
    "id": "acknowledged-tuition"
   },
   "outputs": [],
   "source": [
    "#@title Fontsize of the output cells { display-mode: \"form\", run: \"auto\" }\n",
    "\n",
    "#@markdown Set the fontsize of the text in output cells,\n",
    "#@markdown default value is 18px.\n",
    "\n",
    "font_size =   18#@param {type:\"integer\"}\n",
    "\n",
    "# from https://stackoverflow.com/questions/61957742/how-to-increase-font-size-of-google-colab-cell-output\n",
    "def increase_font():\n",
    "    from IPython.display import Javascript\n",
    "    display(Javascript(f'''\n",
    "    for (rule of document.styleSheets[0].cssRules){{\n",
    "        if (rule.selectorText=='body') {{\n",
    "            rule.style.fontSize = '{font_size}px'\n",
    "            break\n",
    "        }}\n",
    "    }}'''))\n",
    "\n",
    "if IN_COLAB:\n",
    "    # set it to run in every cell\n",
    "    get_ipython().events.register('pre_run_cell', increase_font)\n",
    "    # disable\n",
    "    # get_ipython().events.unregister('pre_run_cell', increase_font)"
   ]
  },
  {
   "cell_type": "markdown",
   "id": "phantom-reach",
   "metadata": {
    "id": "phantom-reach"
   },
   "source": [
    "### Input the text model\n",
    "\n",
    "Use rules as for LaTeX"
   ]
  },
  {
   "cell_type": "code",
   "execution_count": 3,
   "id": "vocational-reproduction",
   "metadata": {
    "id": "vocational-reproduction",
    "outputId": "733c2df5-06fd-4888-9454-842d4c431238"
   },
   "outputs": [
    {
     "data": {
      "text/latex": [
       "$\\displaystyle \\begin{align}\\mathrm{BR} &\\xrightarrow{h\\nu} \\mathrm{^1BR} \\\\\\mathrm{^1BR} &\\xrightarrow{k_S} \\mathrm{BR} \\\\\\mathrm{^1BR} &\\xrightarrow{k_{isc}} \\mathrm{^3BR} \\\\\\mathrm{^3BR} &\\xrightarrow{k_T} \\mathrm{BR} \\\\\\mathrm{^3BR} + \\mathrm{^3O_2} &\\xrightarrow{k_{TT}} \\mathrm{^1O_2} + \\mathrm{BR} \\\\\\mathrm{^1O_2} &\\xrightarrow{k_d} \\mathrm{^3O_2} \\\\\\mathrm{^1O_2} + \\mathrm{BR} &\\xrightarrow{k_q} \\mathrm{BR} + \\mathrm{^3O_2} \\\\\\mathrm{BR} + \\mathrm{^1O_2} &\\xrightarrow{k_r}  \\\\\\end{align}$"
      ],
      "text/plain": [
       "<IPython.core.display.Math object>"
      ]
     },
     "metadata": {},
     "output_type": "display_data"
    }
   ],
   "source": [
    "text_model = \"\"\"\n",
    "BR -hv-> ^1BR --> BR          // k_S  # population of singlet state and decay to GS with rate k_S\n",
    "^1BR --> ^3BR --> BR          // k_{isc} ; k_T\n",
    "^3BR + ^3O_2 --> ^1O_2 + BR   // k_{TT}\n",
    "^1O_2 --> ^3O_2               // k_d\n",
    "^1O_2 + BR --> BR + ^3O_2     // k_q\n",
    "BR + ^1O_2 -->                // k_r\n",
    "\"\"\"\n",
    "\n",
    "model = PhotoKineticSymbolicModel.from_text(text_model)\n",
    "model.print_model()"
   ]
  },
  {
   "cell_type": "code",
   "execution_count": 4,
   "id": "bound-therapist",
   "metadata": {
    "id": "bound-therapist",
    "outputId": "0bfa8268-09b6-475e-de7d-6d8e4f3459ed"
   },
   "outputs": [
    {
     "name": "stdout",
     "output_type": "stream",
     "text": [
      "\n",
      "\n"
     ]
    },
    {
     "data": {
      "text/latex": [
       "$\\displaystyle \\frac{d}{d t} \\operatorname{c_{BR}}{\\left(t \\right)} = - J \\left(1 - 10^{- \\epsilon l \\operatorname{c_{BR}}{\\left(t \\right)}}\\right) + k_{S} \\operatorname{c_{^1BR}}{\\left(t \\right)} + k_{T} \\operatorname{c_{^3BR}}{\\left(t \\right)} - k_{r} \\operatorname{c_{BR}}{\\left(t \\right)} \\operatorname{c_{^1O_2}}{\\left(t \\right)} + k_{TT} \\operatorname{c_{^3BR}}{\\left(t \\right)} \\operatorname{c_{^3O_2}}{\\left(t \\right)}$"
      ],
      "text/plain": [
       "Eq(Derivative(c_{BR}(t), t), -J*(1 - 1/10**(epsilon*l*c_{BR}(t))) + k_S*c_{^1BR}(t) + k_T*c_{^3BR}(t) - k_r*c_{BR}(t)*c_{^1O_2}(t) + k_{TT}*c_{^3BR}(t)*c_{^3O_2}(t))"
      ]
     },
     "metadata": {},
     "output_type": "display_data"
    },
    {
     "data": {
      "text/latex": [
       "$\\displaystyle \\frac{d}{d t} \\operatorname{c_{^1BR}}{\\left(t \\right)} = J \\left(1 - 10^{- \\epsilon l \\operatorname{c_{BR}}{\\left(t \\right)}}\\right) - k_{S} \\operatorname{c_{^1BR}}{\\left(t \\right)} - k_{isc} \\operatorname{c_{^1BR}}{\\left(t \\right)}$"
      ],
      "text/plain": [
       "Eq(Derivative(c_{^1BR}(t), t), J*(1 - 1/10**(epsilon*l*c_{BR}(t))) - k_S*c_{^1BR}(t) - k_{isc}*c_{^1BR}(t))"
      ]
     },
     "metadata": {},
     "output_type": "display_data"
    },
    {
     "data": {
      "text/latex": [
       "$\\displaystyle \\frac{d}{d t} \\operatorname{c_{^3BR}}{\\left(t \\right)} = - k_{T} \\operatorname{c_{^3BR}}{\\left(t \\right)} - k_{TT} \\operatorname{c_{^3BR}}{\\left(t \\right)} \\operatorname{c_{^3O_2}}{\\left(t \\right)} + k_{isc} \\operatorname{c_{^1BR}}{\\left(t \\right)}$"
      ],
      "text/plain": [
       "Eq(Derivative(c_{^3BR}(t), t), -k_T*c_{^3BR}(t) - k_{TT}*c_{^3BR}(t)*c_{^3O_2}(t) + k_{isc}*c_{^1BR}(t))"
      ]
     },
     "metadata": {},
     "output_type": "display_data"
    },
    {
     "data": {
      "text/latex": [
       "$\\displaystyle \\frac{d}{d t} \\operatorname{c_{^3O_2}}{\\left(t \\right)} = k_{d} \\operatorname{c_{^1O_2}}{\\left(t \\right)} + k_{q} \\operatorname{c_{BR}}{\\left(t \\right)} \\operatorname{c_{^1O_2}}{\\left(t \\right)} - k_{TT} \\operatorname{c_{^3BR}}{\\left(t \\right)} \\operatorname{c_{^3O_2}}{\\left(t \\right)}$"
      ],
      "text/plain": [
       "Eq(Derivative(c_{^3O_2}(t), t), k_d*c_{^1O_2}(t) + k_q*c_{BR}(t)*c_{^1O_2}(t) - k_{TT}*c_{^3BR}(t)*c_{^3O_2}(t))"
      ]
     },
     "metadata": {},
     "output_type": "display_data"
    },
    {
     "data": {
      "text/latex": [
       "$\\displaystyle \\frac{d}{d t} \\operatorname{c_{^1O_2}}{\\left(t \\right)} = - k_{d} \\operatorname{c_{^1O_2}}{\\left(t \\right)} - k_{q} \\operatorname{c_{BR}}{\\left(t \\right)} \\operatorname{c_{^1O_2}}{\\left(t \\right)} - k_{r} \\operatorname{c_{BR}}{\\left(t \\right)} \\operatorname{c_{^1O_2}}{\\left(t \\right)} + k_{TT} \\operatorname{c_{^3BR}}{\\left(t \\right)} \\operatorname{c_{^3O_2}}{\\left(t \\right)}$"
      ],
      "text/plain": [
       "Eq(Derivative(c_{^1O_2}(t), t), -k_d*c_{^1O_2}(t) - k_q*c_{BR}(t)*c_{^1O_2}(t) - k_r*c_{BR}(t)*c_{^1O_2}(t) + k_{TT}*c_{^3BR}(t)*c_{^3O_2}(t))"
      ]
     },
     "metadata": {},
     "output_type": "display_data"
    },
    {
     "name": "stdout",
     "output_type": "stream",
     "text": [
      "\n",
      "\n"
     ]
    },
    {
     "data": {
      "text/latex": [
       "$\\displaystyle \\frac{d}{d t} \\operatorname{c_{BR}}{\\left(t \\right)} = - \\frac{10^{- \\epsilon l \\operatorname{c_{BR}}{\\left(t \\right)}} J \\phi_{isc} k_{r} k_{TT} \\left(10^{\\epsilon l \\operatorname{c_{BR}}{\\left(t \\right)}} - 1\\right) \\operatorname{c_{BR}}{\\left(t \\right)} \\operatorname{c_{^3O_2}}{\\left(t \\right)}}{\\left(k_{T} + k_{TT} \\operatorname{c_{^3O_2}}{\\left(t \\right)}\\right) \\left(k_{d} + k_{q} \\operatorname{c_{BR}}{\\left(t \\right)} + k_{r} \\operatorname{c_{BR}}{\\left(t \\right)}\\right)}$"
      ],
      "text/plain": [
       "Eq(Derivative(c_{BR}(t), t), -J*\\phi_{isc}*k_r*k_{TT}*(10**(epsilon*l*c_{BR}(t)) - 1)*c_{BR}(t)*c_{^3O_2}(t)/(10**(epsilon*l*c_{BR}(t))*(k_T + k_{TT}*c_{^3O_2}(t))*(k_d + k_q*c_{BR}(t) + k_r*c_{BR}(t))))"
      ]
     },
     "metadata": {},
     "output_type": "display_data"
    },
    {
     "data": {
      "text/latex": [
       "$\\displaystyle \\operatorname{c_{^1BR}}{\\left(t \\right)} = \\frac{10^{- \\epsilon l \\operatorname{c_{BR}}{\\left(t \\right)}} J \\left(10^{\\epsilon l \\operatorname{c_{BR}}{\\left(t \\right)}} - 1\\right)}{k_{S} + k_{isc}}$"
      ],
      "text/plain": [
       "Eq(c_{^1BR}(t), J*(10**(epsilon*l*c_{BR}(t)) - 1)/(10**(epsilon*l*c_{BR}(t))*(k_S + k_{isc})))"
      ]
     },
     "metadata": {},
     "output_type": "display_data"
    },
    {
     "data": {
      "text/latex": [
       "$\\displaystyle \\operatorname{c_{^3BR}}{\\left(t \\right)} = \\frac{10^{- \\epsilon l \\operatorname{c_{BR}}{\\left(t \\right)}} J \\phi_{isc} \\left(10^{\\epsilon l \\operatorname{c_{BR}}{\\left(t \\right)}} - 1\\right)}{k_{T} + k_{TT} \\operatorname{c_{^3O_2}}{\\left(t \\right)}}$"
      ],
      "text/plain": [
       "Eq(c_{^3BR}(t), J*\\phi_{isc}*(10**(epsilon*l*c_{BR}(t)) - 1)/(10**(epsilon*l*c_{BR}(t))*(k_T + k_{TT}*c_{^3O_2}(t))))"
      ]
     },
     "metadata": {},
     "output_type": "display_data"
    },
    {
     "data": {
      "text/latex": [
       "$\\displaystyle \\frac{d}{d t} \\operatorname{c_{^3O_2}}{\\left(t \\right)} = - \\frac{10^{- \\epsilon l \\operatorname{c_{BR}}{\\left(t \\right)}} J \\phi_{isc} k_{r} k_{TT} \\left(10^{\\epsilon l \\operatorname{c_{BR}}{\\left(t \\right)}} - 1\\right) \\operatorname{c_{BR}}{\\left(t \\right)} \\operatorname{c_{^3O_2}}{\\left(t \\right)}}{\\left(k_{T} + k_{TT} \\operatorname{c_{^3O_2}}{\\left(t \\right)}\\right) \\left(k_{d} + k_{q} \\operatorname{c_{BR}}{\\left(t \\right)} + k_{r} \\operatorname{c_{BR}}{\\left(t \\right)}\\right)}$"
      ],
      "text/plain": [
       "Eq(Derivative(c_{^3O_2}(t), t), -J*\\phi_{isc}*k_r*k_{TT}*(10**(epsilon*l*c_{BR}(t)) - 1)*c_{BR}(t)*c_{^3O_2}(t)/(10**(epsilon*l*c_{BR}(t))*(k_T + k_{TT}*c_{^3O_2}(t))*(k_d + k_q*c_{BR}(t) + k_r*c_{BR}(t))))"
      ]
     },
     "metadata": {},
     "output_type": "display_data"
    },
    {
     "data": {
      "text/latex": [
       "$\\displaystyle \\operatorname{c_{^1O_2}}{\\left(t \\right)} = \\frac{10^{- \\epsilon l \\operatorname{c_{BR}}{\\left(t \\right)}} J \\phi_{isc} k_{TT} \\left(10^{\\epsilon l \\operatorname{c_{BR}}{\\left(t \\right)}} - 1\\right) \\operatorname{c_{^3O_2}}{\\left(t \\right)}}{\\left(k_{T} + k_{TT} \\operatorname{c_{^3O_2}}{\\left(t \\right)}\\right) \\left(k_{d} + k_{q} \\operatorname{c_{BR}}{\\left(t \\right)} + k_{r} \\operatorname{c_{BR}}{\\left(t \\right)}\\right)}$"
      ],
      "text/plain": [
       "Eq(c_{^1O_2}(t), J*\\phi_{isc}*k_{TT}*(10**(epsilon*l*c_{BR}(t)) - 1)*c_{^3O_2}(t)/(10**(epsilon*l*c_{BR}(t))*(k_T + k_{TT}*c_{^3O_2}(t))*(k_d + k_q*c_{BR}(t) + k_r*c_{BR}(t))))"
      ]
     },
     "metadata": {},
     "output_type": "display_data"
    }
   ],
   "source": [
    "print('\\n')\n",
    "model.pprint_equations()\n",
    "print('\\n')\n",
    "\n",
    "# substitute for isc quantum yield\n",
    "k_S, k_isc, *_ = model.symbols['rate_constants']\n",
    "phi_isc = symbols('\\phi_{isc}')\n",
    "subs = [(k_isc / (k_isc + k_S), phi_isc)]\n",
    "\n",
    "model.steady_state_approx(['^1BR', '^3BR', '^1O_2'], subs)  # set the species for SS approximation"
   ]
  },
  {
   "cell_type": "code",
   "execution_count": 16,
   "id": "addressed-characteristic",
   "metadata": {
    "id": "addressed-characteristic",
    "outputId": "13c21b96-160f-4eaf-c55b-591a0c75ef0f"
   },
   "outputs": [
    {
     "data": {
      "text/latex": [
       "$\\displaystyle \\begin{align}\\mathrm{ArO_2} &\\xrightarrow{k_1} \\mathrm{Ar} + \\mathrm{^1O_2} \\\\\\mathrm{^1O_2} &\\xrightarrow{k_d} \\mathrm{^3O_2} \\\\\\mathrm{^1O_2} + \\mathrm{S} &\\xrightarrow{k_{q,S}} \\mathrm{S} + \\mathrm{^3O_2} \\\\\\mathrm{S} + \\mathrm{^1O_2} &\\xrightarrow{k_r}  \\\\\\end{align}$"
      ],
      "text/plain": [
       "<IPython.core.display.Math object>"
      ]
     },
     "metadata": {},
     "output_type": "display_data"
    },
    {
     "name": "stdout",
     "output_type": "stream",
     "text": [
      "\n",
      "\n"
     ]
    },
    {
     "data": {
      "text/latex": [
       "$\\displaystyle \\frac{d}{d t} \\operatorname{c_{ArO_2}}{\\left(t \\right)} = - k_{1} \\operatorname{c_{ArO_2}}{\\left(t \\right)}$"
      ],
      "text/plain": [
       "Eq(Derivative(c_{ArO_2}(t), t), -k_1*c_{ArO_2}(t))"
      ]
     },
     "metadata": {},
     "output_type": "display_data"
    },
    {
     "data": {
      "text/latex": [
       "$\\displaystyle \\frac{d}{d t} \\operatorname{c_{Ar}}{\\left(t \\right)} = k_{1} \\operatorname{c_{ArO_2}}{\\left(t \\right)}$"
      ],
      "text/plain": [
       "Eq(Derivative(c_{Ar}(t), t), k_1*c_{ArO_2}(t))"
      ]
     },
     "metadata": {},
     "output_type": "display_data"
    },
    {
     "data": {
      "text/latex": [
       "$\\displaystyle \\operatorname{c_{^1O_2}}{\\left(t \\right)} = \\frac{k_{1} \\operatorname{c_{ArO_2}}{\\left(t \\right)}}{k_{d} + k_{r} \\operatorname{c_{S}}{\\left(t \\right)} + k_{q,S} \\operatorname{c_{S}}{\\left(t \\right)}}$"
      ],
      "text/plain": [
       "Eq(c_{^1O_2}(t), k_1*c_{ArO_2}(t)/(k_d + k_r*c_{S}(t) + k_{q,S}*c_{S}(t)))"
      ]
     },
     "metadata": {},
     "output_type": "display_data"
    },
    {
     "data": {
      "text/latex": [
       "$\\displaystyle \\frac{d}{d t} \\operatorname{c_{^3O_2}}{\\left(t \\right)} = \\frac{k_{1} \\left(k_{d} + k_{q,S} \\operatorname{c_{S}}{\\left(t \\right)}\\right) \\operatorname{c_{ArO_2}}{\\left(t \\right)}}{k_{d} + k_{r} \\operatorname{c_{S}}{\\left(t \\right)} + k_{q,S} \\operatorname{c_{S}}{\\left(t \\right)}}$"
      ],
      "text/plain": [
       "Eq(Derivative(c_{^3O_2}(t), t), k_1*(k_d + k_{q,S}*c_{S}(t))*c_{ArO_2}(t)/(k_d + k_r*c_{S}(t) + k_{q,S}*c_{S}(t)))"
      ]
     },
     "metadata": {},
     "output_type": "display_data"
    },
    {
     "data": {
      "text/latex": [
       "$\\displaystyle \\frac{d}{d t} \\operatorname{c_{S}}{\\left(t \\right)} = - \\frac{k_{1} k_{r} \\operatorname{c_{ArO_2}}{\\left(t \\right)} \\operatorname{c_{S}}{\\left(t \\right)}}{k_{d} + k_{r} \\operatorname{c_{S}}{\\left(t \\right)} + k_{q,S} \\operatorname{c_{S}}{\\left(t \\right)}}$"
      ],
      "text/plain": [
       "Eq(Derivative(c_{S}(t), t), -k_1*k_r*c_{ArO_2}(t)*c_{S}(t)/(k_d + k_r*c_{S}(t) + k_{q,S}*c_{S}(t)))"
      ]
     },
     "metadata": {},
     "output_type": "display_data"
    }
   ],
   "source": [
    "str_model = \"\"\"\n",
    "ArO_2 --> Ar + ^1O_2             // k_1  # absorption and singlet state decay\n",
    "^1O_2 --> ^3O_2                  // k_d\n",
    "# ^1O_2 + Ar --> Ar + ^3O_2         // k_{q,Ar}\n",
    "# ^1O_2 + ArO_2 --> ArO_2 + ^3O_2     // k_{q,ArO_2}\n",
    "^1O_2 + S --> S + ^3O_2           // k_{q,S}\n",
    "S + ^1O_2 -->                      // k_r\n",
    "\"\"\"\n",
    "\n",
    "model = PhotoKineticSymbolicModel.from_text(str_model)\n",
    "\n",
    "model.print_model()\n",
    "print('\\n')\n",
    "# model.pprint_equations()\n",
    "# print('\\n')\n",
    "\n",
    "model.steady_state_approx(['^1O_2'])  # set the species for SS approximation"
   ]
  },
  {
   "cell_type": "code",
   "execution_count": 34,
   "id": "7ddb5cdc-3a84-41ee-aebb-153e43f84ace",
   "metadata": {
    "id": "ultimate-castle"
   },
   "outputs": [
    {
     "name": "stdout",
     "output_type": "stream",
     "text": [
      "[k_1, k_d, k_{q,S}, k_r]\n"
     ]
    },
    {
     "data": {
      "image/png": "[encoded data removed]",
      "text/plain": [
       "<Figure size 432x288 with 1 Axes>"
      ]
     },
     "metadata": {
      "needs_background": "light"
     },
     "output_type": "display_data"
    }
   ],
   "source": [
    "print(model.symbols['rate_constants'])\n",
    "model.simulate_model([5e-3, 1/9.5e-6, 1e4, 1e9], [1e-3, 0, 0, 0, 1.5e-3], t_max=1e3, yscale='linear')\n"
   ]
  },
  {
   "cell_type": "code",
   "execution_count": null,
   "id": "9c49dc6e-4368-4e3d-85f2-ad9288381928",
   "metadata": {},
   "outputs": [
    {
     "data": {
      "text/plain": [
       "dict_keys(['x', 'c', 'a'])"
      ]
     },
     "execution_count": 13,
     "metadata": {},
     "output_type": "execute_result"
    }
   ],
   "source": [
    "\n",
    "a = {'x': 5, 'c': 84, 'a': 'aa'}\n",
    "a\n",
    "a.keys()"
   ]
  },
  {
   "cell_type": "code",
   "execution_count": null,
   "id": "0006c27d-b6ff-43ec-9a00-7c0fcc546deb",
   "metadata": {},
   "outputs": [],
   "source": []
  }
 ],
 "metadata": {
  "colab": {
   "name": "Simulator.ipynb",
   "provenance": []
  },
  "kernelspec": {
   "display_name": "Python 3 (ipykernel)",
   "language": "python",
   "name": "python3"
  },
  "language_info": {
   "codemirror_mode": {
    "name": "ipython",
    "version": 3
   },
   "file_extension": ".py",
   "mimetype": "text/x-python",
   "name": "python",
   "nbconvert_exporter": "python",
   "pygments_lexer": "ipython3",
   "version": "3.9.7"
  }
 },
 "nbformat": 4,
 "nbformat_minor": 5
}
