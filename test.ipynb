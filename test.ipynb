{
 "cells": [
  {
   "cell_type": "markdown",
   "id": "426f783c",
   "metadata": {
    "colab_type": "text",
    "id": "view-in-github"
   },
   "source": [
    "<a href=\"https://colab.research.google.com/github/dmadea/Photo-Kinetic-Simulator/blob/main/Simulator.ipynb\" target=\"_parent\"><img src=\"https://colab.research.google.com/assets/colab-badge.svg\" alt=\"Open In Colab\"/></a>"
   ]
  },
  {
   "cell_type": "markdown",
   "id": "front-lodge",
   "metadata": {
    "id": "front-lodge"
   },
   "source": [
    "### Simple Sequential Kinetic Model\n",
    "\n",
    "In the following example, the simulation of simple sequential model is shown. The individual operations are explained by the code comments."
   ]
  },
  {
   "cell_type": "code",
   "execution_count": 14,
   "id": "broke-philadelphia",
   "metadata": {
    "colab": {
     "base_uri": "https://localhost:8080/",
     "height": 316
    },
    "id": "broke-philadelphia",
    "outputId": "61df3c14-78ad-4a22-abd8-3cb6c1a0369c"
   },
   "outputs": [],
   "source": [
    "from sympy import Function, solve, Eq, factor, simplify, Symbol, symbols, lambdify, pprint, init_printing, Add"
   ]
  },
  {
   "cell_type": "code",
   "execution_count": 66,
   "id": "55be6d6f-96e1-4699-af5d-e5932710c81f",
   "metadata": {},
   "outputs": [
    {
     "data": {
      "text/latex": [
       "$\\displaystyle \\frac{d}{d t} c_{[AO]}{\\left(t \\right)} = - k c_{[AO]}{\\left(t \\right)}$"
      ],
      "text/plain": [
       "Eq(Derivative(c_{[AO]}(t), t), -k*c_{[AO]}(t))"
      ]
     },
     "metadata": {},
     "output_type": "display_data"
    },
    {
     "data": {
      "text/latex": [
       "$\\displaystyle K = \\frac{c_{[AO]}{\\left(t \\right)}}{c_{A}{\\left(t \\right)} c_{O}{\\left(t \\right)}}$"
      ],
      "text/plain": [
       "Eq(K, c_{[AO]}(t)/(c_A(t)*c_O(t)))"
      ]
     },
     "metadata": {},
     "output_type": "display_data"
    },
    {
     "data": {
      "text/latex": [
       "$\\displaystyle \\frac{d}{d t} c_{[AO]}{\\left(t \\right)} = - k c_{[AO]}{\\left(t \\right)}$"
      ],
      "text/plain": [
       "Eq(Derivative(c_{[AO]}(t), t), -k*c_{[AO]}(t))"
      ]
     },
     "metadata": {},
     "output_type": "display_data"
    },
    {
     "data": {
      "text/latex": [
       "$\\displaystyle c_{A}{\\left(t \\right)} = \\frac{c_{[AO]}{\\left(t \\right)}}{K c_{O}{\\left(t \\right)}}$"
      ],
      "text/plain": [
       "Eq(c_A(t), c_{[AO]}(t)/(K*c_O(t)))"
      ]
     },
     "metadata": {},
     "output_type": "display_data"
    }
   ],
   "source": [
    "t, k, K = symbols('t k K')\n",
    "\n",
    "cA = Function('c_A')(t)\n",
    "# cB = Function('c_{A*}')(t)\n",
    "cO = Function('c_O')(t)\n",
    "cAO =  Function('c_{[AO]}')(t)\n",
    "\n",
    "eq1 = Eq(cAO.diff(t), -k*cAO)\n",
    "eq2 = Eq(K, cAO / (cA * cO))\n",
    "\n",
    "display(eq1)\n",
    "display(eq2)\n",
    "\n",
    "variables = [cAO.diff(t), cA]  # cA.diff(t),\n",
    "# variables = [cA, cB]\n",
    "\n",
    "solution = solve([eq1, eq2], variables)\n",
    "\n",
    "\n",
    "for (var, exp) in solution.items():\n",
    "    display(Eq(var, exp))\n",
    "\n",
    "# for (var, exp) in solution:\n",
    "#     # display(Eq(entry[0], entry)\n",
    "#     display(Eq(var, exp))\n"
   ]
  },
  {
   "cell_type": "code",
   "execution_count": 19,
   "id": "d2256211-72e6-49d1-ae69-870e05a4bcd8",
   "metadata": {},
   "outputs": [
    {
     "data": {
      "text/plain": [
       "dict_items([(Derivative(c_A(t), t), -k*t)])"
      ]
     },
     "execution_count": 19,
     "metadata": {},
     "output_type": "execute_result"
    }
   ],
   "source": []
  },
  {
   "cell_type": "markdown",
   "id": "graduate-equipment",
   "metadata": {
    "id": "graduate-equipment"
   },
   "source": []
  }
 ],
 "metadata": {
  "colab": {
   "include_colab_link": true,
   "name": "Simulator.ipynb",
   "provenance": []
  },
  "kernelspec": {
   "display_name": "Python 3 (ipykernel)",
   "language": "python",
   "name": "python3"
  },
  "language_info": {
   "codemirror_mode": {
    "name": "ipython",
    "version": 3
   },
   "file_extension": ".py",
   "mimetype": "text/x-python",
   "name": "python",
   "nbconvert_exporter": "python",
   "pygments_lexer": "ipython3",
   "version": "3.9.13"
  }
 },
 "nbformat": 4,
 "nbformat_minor": 5
}
